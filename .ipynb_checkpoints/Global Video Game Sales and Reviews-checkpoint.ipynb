{
 "cells": [
  {
   "cell_type": "markdown",
   "id": "0a7c8e5a-4c93-478f-9ebc-e38568e7fb4c",
   "metadata": {},
   "source": [
    "# INTRODUCTION\n",
    "\n",
    "This data analysis project focuses on video game sales and reviews, encompassing table modifications, data cleaning, and data visualization.The objectives of this project are as follows:\n",
    "\n",
    "📈 **Sales Trends:** What are the best-selling games of all time?\n",
    "\n",
    "🕹️ **Genre Popularity:** Which genres have the highest sales?\n",
    "\n",
    "🌍 **Regional Sales:** How do sales vary across North America, Europe, and Japan?\n",
    "\n",
    "⭐ **Review Analysis:** How do critic and user scores correlate with sales?\n",
    "\n",
    "🏆 **Publisher Insights:** Which publishers release the most successful games?\n",
    "\n",
    "The data was obtained from a Kaggle profile."
   ]
  },
  {
   "cell_type": "markdown",
   "id": "4f4c352c-f875-4b94-ab63-951a114ffd21",
   "metadata": {},
   "source": [
    "## Import Python Modules\n",
    "\n",
    "First, import the primary modules that will be used in this project:"
   ]
  },
  {
   "cell_type": "code",
   "execution_count": 187,
   "id": "4f5551c7-8679-4a90-a952-85163ac1bc88",
   "metadata": {},
   "outputs": [],
   "source": [
    "%matplotlib notebook\n",
    "import pandas as pd\n",
    "import seaborn as sns\n",
    "import matplotlib.pyplot as plt\n",
    "import numpy as np\n",
    "import re"
   ]
  },
  {
   "cell_type": "markdown",
   "id": "0743bb37-9a11-4aa1-962e-4e68f83a548c",
   "metadata": {},
   "source": [
    "After that, we can finally load our database and discover its columns and all its contents."
   ]
  },
  {
   "cell_type": "code",
   "execution_count": 189,
   "id": "a5baccf4-26e0-48f6-9686-a8b2c1757d6b",
   "metadata": {},
   "outputs": [],
   "source": [
    "game_data = pd.read_csv('Video Games Sales.csv')"
   ]
  },
  {
   "cell_type": "code",
   "execution_count": 190,
   "id": "6d83cb3c-b1e0-496a-b127-93abfbdef829",
   "metadata": {},
   "outputs": [
    {
     "data": {
      "text/html": [
       "<div>\n",
       "<style scoped>\n",
       "    .dataframe tbody tr th:only-of-type {\n",
       "        vertical-align: middle;\n",
       "    }\n",
       "\n",
       "    .dataframe tbody tr th {\n",
       "        vertical-align: top;\n",
       "    }\n",
       "\n",
       "    .dataframe thead th {\n",
       "        text-align: right;\n",
       "    }\n",
       "</style>\n",
       "<table border=\"1\" class=\"dataframe\">\n",
       "  <thead>\n",
       "    <tr style=\"text-align: right;\">\n",
       "      <th></th>\n",
       "      <th>index</th>\n",
       "      <th>Rank</th>\n",
       "      <th>Game Title</th>\n",
       "      <th>Platform</th>\n",
       "      <th>Year</th>\n",
       "      <th>Genre</th>\n",
       "      <th>Publisher</th>\n",
       "      <th>North America</th>\n",
       "      <th>Europe</th>\n",
       "      <th>Japan</th>\n",
       "      <th>Rest of World</th>\n",
       "      <th>Global</th>\n",
       "      <th>Review</th>\n",
       "    </tr>\n",
       "  </thead>\n",
       "  <tbody>\n",
       "    <tr>\n",
       "      <th>0</th>\n",
       "      <td>0</td>\n",
       "      <td>1</td>\n",
       "      <td>Wii Sports</td>\n",
       "      <td>Wii</td>\n",
       "      <td>2006.0</td>\n",
       "      <td>Sports</td>\n",
       "      <td>Nintendo</td>\n",
       "      <td>40.43</td>\n",
       "      <td>28.39</td>\n",
       "      <td>3.77</td>\n",
       "      <td>8.54</td>\n",
       "      <td>81.12</td>\n",
       "      <td>76.28</td>\n",
       "    </tr>\n",
       "    <tr>\n",
       "      <th>1</th>\n",
       "      <td>1</td>\n",
       "      <td>2</td>\n",
       "      <td>Super Mario Bros.</td>\n",
       "      <td>NES</td>\n",
       "      <td>1985.0</td>\n",
       "      <td>Platform</td>\n",
       "      <td>Nintendo</td>\n",
       "      <td>29.08</td>\n",
       "      <td>3.58</td>\n",
       "      <td>6.81</td>\n",
       "      <td>0.77</td>\n",
       "      <td>40.24</td>\n",
       "      <td>91.00</td>\n",
       "    </tr>\n",
       "    <tr>\n",
       "      <th>2</th>\n",
       "      <td>2</td>\n",
       "      <td>3</td>\n",
       "      <td>Mario Kart Wii</td>\n",
       "      <td>Wii</td>\n",
       "      <td>2008.0</td>\n",
       "      <td>Racing</td>\n",
       "      <td>Nintendo</td>\n",
       "      <td>14.50</td>\n",
       "      <td>12.22</td>\n",
       "      <td>3.63</td>\n",
       "      <td>3.21</td>\n",
       "      <td>33.55</td>\n",
       "      <td>82.07</td>\n",
       "    </tr>\n",
       "    <tr>\n",
       "      <th>3</th>\n",
       "      <td>3</td>\n",
       "      <td>4</td>\n",
       "      <td>Wii Sports Resort</td>\n",
       "      <td>Wii</td>\n",
       "      <td>2009.0</td>\n",
       "      <td>Sports</td>\n",
       "      <td>Nintendo</td>\n",
       "      <td>14.82</td>\n",
       "      <td>10.51</td>\n",
       "      <td>3.18</td>\n",
       "      <td>3.01</td>\n",
       "      <td>31.52</td>\n",
       "      <td>82.65</td>\n",
       "    </tr>\n",
       "    <tr>\n",
       "      <th>4</th>\n",
       "      <td>4</td>\n",
       "      <td>5</td>\n",
       "      <td>Tetris</td>\n",
       "      <td>GB</td>\n",
       "      <td>1989.0</td>\n",
       "      <td>Puzzle</td>\n",
       "      <td>Nintendo</td>\n",
       "      <td>23.20</td>\n",
       "      <td>2.26</td>\n",
       "      <td>4.22</td>\n",
       "      <td>0.58</td>\n",
       "      <td>30.26</td>\n",
       "      <td>88.00</td>\n",
       "    </tr>\n",
       "    <tr>\n",
       "      <th>5</th>\n",
       "      <td>5</td>\n",
       "      <td>6</td>\n",
       "      <td>New Super Mario Bros.</td>\n",
       "      <td>DS</td>\n",
       "      <td>2006.0</td>\n",
       "      <td>Platform</td>\n",
       "      <td>Nintendo</td>\n",
       "      <td>10.85</td>\n",
       "      <td>8.87</td>\n",
       "      <td>6.48</td>\n",
       "      <td>2.88</td>\n",
       "      <td>29.08</td>\n",
       "      <td>90.00</td>\n",
       "    </tr>\n",
       "    <tr>\n",
       "      <th>6</th>\n",
       "      <td>6</td>\n",
       "      <td>7</td>\n",
       "      <td>Wii Play</td>\n",
       "      <td>Wii</td>\n",
       "      <td>2006.0</td>\n",
       "      <td>Misc</td>\n",
       "      <td>Nintendo</td>\n",
       "      <td>13.83</td>\n",
       "      <td>9.11</td>\n",
       "      <td>2.93</td>\n",
       "      <td>2.84</td>\n",
       "      <td>28.71</td>\n",
       "      <td>61.64</td>\n",
       "    </tr>\n",
       "  </tbody>\n",
       "</table>\n",
       "</div>"
      ],
      "text/plain": [
       "   index  Rank             Game Title Platform    Year     Genre Publisher  \\\n",
       "0      0     1             Wii Sports      Wii  2006.0    Sports  Nintendo   \n",
       "1      1     2      Super Mario Bros.      NES  1985.0  Platform  Nintendo   \n",
       "2      2     3         Mario Kart Wii      Wii  2008.0    Racing  Nintendo   \n",
       "3      3     4      Wii Sports Resort      Wii  2009.0    Sports  Nintendo   \n",
       "4      4     5                 Tetris       GB  1989.0    Puzzle  Nintendo   \n",
       "5      5     6  New Super Mario Bros.       DS  2006.0  Platform  Nintendo   \n",
       "6      6     7               Wii Play      Wii  2006.0      Misc  Nintendo   \n",
       "\n",
       "   North America  Europe  Japan  Rest of World  Global  Review  \n",
       "0          40.43   28.39   3.77           8.54   81.12   76.28  \n",
       "1          29.08    3.58   6.81           0.77   40.24   91.00  \n",
       "2          14.50   12.22   3.63           3.21   33.55   82.07  \n",
       "3          14.82   10.51   3.18           3.01   31.52   82.65  \n",
       "4          23.20    2.26   4.22           0.58   30.26   88.00  \n",
       "5          10.85    8.87   6.48           2.88   29.08   90.00  \n",
       "6          13.83    9.11   2.93           2.84   28.71   61.64  "
      ]
     },
     "execution_count": 190,
     "metadata": {},
     "output_type": "execute_result"
    }
   ],
   "source": [
    "game_data.head(7)"
   ]
  },
  {
   "cell_type": "markdown",
   "id": "b708f94c-6219-4d96-9c7a-9549dbf1928f",
   "metadata": {},
   "source": [
    "The primary focus of the table is the name, sales by region, and ratings, all of which are global. "
   ]
  },
  {
   "cell_type": "markdown",
   "id": "52d7616f-5314-4380-bba2-b1257e2256fd",
   "metadata": {},
   "source": [
    "## Data knowledge and data cleansing\n",
    "\n",
    "Before we get started, let's review all of the content to find any missing data and to know what kind of data is handled by each column."
   ]
  },
  {
   "cell_type": "code",
   "execution_count": 193,
   "id": "13f14853-1ca6-48e6-8cd2-dc75f54ce0a2",
   "metadata": {},
   "outputs": [
    {
     "data": {
      "text/html": [
       "<div>\n",
       "<style scoped>\n",
       "    .dataframe tbody tr th:only-of-type {\n",
       "        vertical-align: middle;\n",
       "    }\n",
       "\n",
       "    .dataframe tbody tr th {\n",
       "        vertical-align: top;\n",
       "    }\n",
       "\n",
       "    .dataframe thead th {\n",
       "        text-align: right;\n",
       "    }\n",
       "</style>\n",
       "<table border=\"1\" class=\"dataframe\">\n",
       "  <thead>\n",
       "    <tr style=\"text-align: right;\">\n",
       "      <th></th>\n",
       "      <th>index</th>\n",
       "      <th>Rank</th>\n",
       "      <th>Year</th>\n",
       "      <th>North America</th>\n",
       "      <th>Europe</th>\n",
       "      <th>Japan</th>\n",
       "      <th>Rest of World</th>\n",
       "      <th>Global</th>\n",
       "      <th>Review</th>\n",
       "    </tr>\n",
       "  </thead>\n",
       "  <tbody>\n",
       "    <tr>\n",
       "      <th>count</th>\n",
       "      <td>1907.0000</td>\n",
       "      <td>1907.0000</td>\n",
       "      <td>1878.000000</td>\n",
       "      <td>1907.000000</td>\n",
       "      <td>1907.000000</td>\n",
       "      <td>1907.000000</td>\n",
       "      <td>1907.000000</td>\n",
       "      <td>1907.000000</td>\n",
       "      <td>1907.000000</td>\n",
       "    </tr>\n",
       "    <tr>\n",
       "      <th>mean</th>\n",
       "      <td>953.0000</td>\n",
       "      <td>954.0000</td>\n",
       "      <td>2003.766773</td>\n",
       "      <td>1.258789</td>\n",
       "      <td>0.706675</td>\n",
       "      <td>0.317493</td>\n",
       "      <td>0.206471</td>\n",
       "      <td>2.489240</td>\n",
       "      <td>79.038977</td>\n",
       "    </tr>\n",
       "    <tr>\n",
       "      <th>std</th>\n",
       "      <td>550.6478</td>\n",
       "      <td>550.6478</td>\n",
       "      <td>5.895369</td>\n",
       "      <td>1.956560</td>\n",
       "      <td>1.148904</td>\n",
       "      <td>0.724945</td>\n",
       "      <td>0.343093</td>\n",
       "      <td>3.563159</td>\n",
       "      <td>10.616899</td>\n",
       "    </tr>\n",
       "    <tr>\n",
       "      <th>min</th>\n",
       "      <td>0.0000</td>\n",
       "      <td>1.0000</td>\n",
       "      <td>1983.000000</td>\n",
       "      <td>0.000000</td>\n",
       "      <td>0.000000</td>\n",
       "      <td>0.000000</td>\n",
       "      <td>0.000000</td>\n",
       "      <td>0.830000</td>\n",
       "      <td>30.500000</td>\n",
       "    </tr>\n",
       "    <tr>\n",
       "      <th>25%</th>\n",
       "      <td>476.5000</td>\n",
       "      <td>477.5000</td>\n",
       "      <td>2000.000000</td>\n",
       "      <td>0.510000</td>\n",
       "      <td>0.230000</td>\n",
       "      <td>0.000000</td>\n",
       "      <td>0.060000</td>\n",
       "      <td>1.110000</td>\n",
       "      <td>74.000000</td>\n",
       "    </tr>\n",
       "    <tr>\n",
       "      <th>50%</th>\n",
       "      <td>953.0000</td>\n",
       "      <td>954.0000</td>\n",
       "      <td>2005.000000</td>\n",
       "      <td>0.810000</td>\n",
       "      <td>0.440000</td>\n",
       "      <td>0.020000</td>\n",
       "      <td>0.130000</td>\n",
       "      <td>1.530000</td>\n",
       "      <td>81.000000</td>\n",
       "    </tr>\n",
       "    <tr>\n",
       "      <th>75%</th>\n",
       "      <td>1429.5000</td>\n",
       "      <td>1430.5000</td>\n",
       "      <td>2008.000000</td>\n",
       "      <td>1.375000</td>\n",
       "      <td>0.810000</td>\n",
       "      <td>0.300000</td>\n",
       "      <td>0.220000</td>\n",
       "      <td>2.540000</td>\n",
       "      <td>86.230000</td>\n",
       "    </tr>\n",
       "    <tr>\n",
       "      <th>max</th>\n",
       "      <td>1906.0000</td>\n",
       "      <td>1907.0000</td>\n",
       "      <td>2012.000000</td>\n",
       "      <td>40.430000</td>\n",
       "      <td>28.390000</td>\n",
       "      <td>7.200000</td>\n",
       "      <td>8.540000</td>\n",
       "      <td>81.120000</td>\n",
       "      <td>97.000000</td>\n",
       "    </tr>\n",
       "  </tbody>\n",
       "</table>\n",
       "</div>"
      ],
      "text/plain": [
       "           index       Rank         Year  North America       Europe  \\\n",
       "count  1907.0000  1907.0000  1878.000000    1907.000000  1907.000000   \n",
       "mean    953.0000   954.0000  2003.766773       1.258789     0.706675   \n",
       "std     550.6478   550.6478     5.895369       1.956560     1.148904   \n",
       "min       0.0000     1.0000  1983.000000       0.000000     0.000000   \n",
       "25%     476.5000   477.5000  2000.000000       0.510000     0.230000   \n",
       "50%     953.0000   954.0000  2005.000000       0.810000     0.440000   \n",
       "75%    1429.5000  1430.5000  2008.000000       1.375000     0.810000   \n",
       "max    1906.0000  1907.0000  2012.000000      40.430000    28.390000   \n",
       "\n",
       "             Japan  Rest of World       Global       Review  \n",
       "count  1907.000000    1907.000000  1907.000000  1907.000000  \n",
       "mean      0.317493       0.206471     2.489240    79.038977  \n",
       "std       0.724945       0.343093     3.563159    10.616899  \n",
       "min       0.000000       0.000000     0.830000    30.500000  \n",
       "25%       0.000000       0.060000     1.110000    74.000000  \n",
       "50%       0.020000       0.130000     1.530000    81.000000  \n",
       "75%       0.300000       0.220000     2.540000    86.230000  \n",
       "max       7.200000       8.540000    81.120000    97.000000  "
      ]
     },
     "execution_count": 193,
     "metadata": {},
     "output_type": "execute_result"
    }
   ],
   "source": [
    "game_data.describe()"
   ]
  },
  {
   "cell_type": "code",
   "execution_count": 194,
   "id": "b0a19fa1-e6a9-45d8-89e4-3bed62de3f12",
   "metadata": {},
   "outputs": [
    {
     "name": "stdout",
     "output_type": "stream",
     "text": [
      "<class 'pandas.core.frame.DataFrame'>\n",
      "RangeIndex: 1907 entries, 0 to 1906\n",
      "Data columns (total 13 columns):\n",
      " #   Column         Non-Null Count  Dtype  \n",
      "---  ------         --------------  -----  \n",
      " 0   index          1907 non-null   int64  \n",
      " 1   Rank           1907 non-null   int64  \n",
      " 2   Game Title     1907 non-null   object \n",
      " 3   Platform       1907 non-null   object \n",
      " 4   Year           1878 non-null   float64\n",
      " 5   Genre          1907 non-null   object \n",
      " 6   Publisher      1905 non-null   object \n",
      " 7   North America  1907 non-null   float64\n",
      " 8   Europe         1907 non-null   float64\n",
      " 9   Japan          1907 non-null   float64\n",
      " 10  Rest of World  1907 non-null   float64\n",
      " 11  Global         1907 non-null   float64\n",
      " 12  Review         1907 non-null   float64\n",
      "dtypes: float64(7), int64(2), object(4)\n",
      "memory usage: 193.8+ KB\n"
     ]
    }
   ],
   "source": [
    "game_data.info()"
   ]
  },
  {
   "cell_type": "markdown",
   "id": "2a254a7d-f3b5-4a29-a557-00273493b089",
   "metadata": {},
   "source": [
    "Looking at all the data, we can see that the **Year** column is missing a lot of data. We can also see that the **Publisher** column is also missing some data."
   ]
  },
  {
   "cell_type": "code",
   "execution_count": 196,
   "id": "380f05e5-ad39-4870-80eb-766d03057483",
   "metadata": {},
   "outputs": [
    {
     "data": {
      "text/plain": [
       "index             0\n",
       "Rank              0\n",
       "Game Title        0\n",
       "Platform          0\n",
       "Year             29\n",
       "Genre             0\n",
       "Publisher         2\n",
       "North America     0\n",
       "Europe            0\n",
       "Japan             0\n",
       "Rest of World     0\n",
       "Global            0\n",
       "Review            0\n",
       "dtype: int64"
      ]
     },
     "execution_count": 196,
     "metadata": {},
     "output_type": "execute_result"
    }
   ],
   "source": [
    "game_data.isnull().sum()"
   ]
  },
  {
   "cell_type": "markdown",
   "id": "68b5c4f6-a5e3-4b8b-91ee-122be049e729",
   "metadata": {},
   "source": [
    "In the table it seems that some columns are not well defined, so it will be better to fix them by modifying the float by int. The publisher also needs to be modified."
   ]
  },
  {
   "cell_type": "code",
   "execution_count": 198,
   "id": "17deb1eb-fe09-405e-a9ee-dd482c81b3e4",
   "metadata": {},
   "outputs": [],
   "source": [
    "game_data[\"Year\"] = game_data[\"Year\"].fillna(game_data[\"Year\"].median()).astype(int)\n",
    "game_data[\"Publisher\"] = game_data[\"Publisher\"].fillna(\"Unknown\")"
   ]
  },
  {
   "cell_type": "markdown",
   "id": "217780d2-c2f4-4005-9373-04677de6eb4f",
   "metadata": {},
   "source": [
    "With these lines of code, we can repair and omit all data with empty cells. We can then start the analysis."
   ]
  },
  {
   "cell_type": "code",
   "execution_count": 200,
   "id": "33373bcf-60e4-45aa-9265-f9d4dbe769c4",
   "metadata": {},
   "outputs": [],
   "source": [
    "game_data.drop(columns=[\"index\"], inplace=True)"
   ]
  },
  {
   "cell_type": "markdown",
   "id": "1de07e98-5e52-4e7a-acb5-a6f6515cd8a4",
   "metadata": {},
   "source": [
    "We are also going to eliminate the index column because we do not need it since we already have the range column."
   ]
  },
  {
   "cell_type": "code",
   "execution_count": 202,
   "id": "5978cbf6-045b-48be-9766-21805a6e5dc5",
   "metadata": {},
   "outputs": [
    {
     "name": "stdout",
     "output_type": "stream",
     "text": [
      "There are 0 rows in the table that are duplicates.\n"
     ]
    }
   ],
   "source": [
    "print(\"There are\", game_data.duplicated().sum(), \"rows in the table that are duplicates.\")"
   ]
  },
  {
   "cell_type": "markdown",
   "id": "342f3874-02ab-49c5-8cb6-1d151db3e4b6",
   "metadata": {},
   "source": [
    "With this feature, we were able to demonstrate that there was no duplicate data, so we could move forward."
   ]
  }
 ],
 "metadata": {
  "kernelspec": {
   "display_name": "Python [conda env:base] *",
   "language": "python",
   "name": "conda-base-py"
  },
  "language_info": {
   "codemirror_mode": {
    "name": "ipython",
    "version": 3
   },
   "file_extension": ".py",
   "mimetype": "text/x-python",
   "name": "python",
   "nbconvert_exporter": "python",
   "pygments_lexer": "ipython3",
   "version": "3.12.7"
  }
 },
 "nbformat": 4,
 "nbformat_minor": 5
}
